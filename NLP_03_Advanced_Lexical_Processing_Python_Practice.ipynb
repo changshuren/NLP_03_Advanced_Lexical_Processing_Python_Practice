{
 "cells": [
  {
   "cell_type": "code",
   "execution_count": null,
   "metadata": {},
   "outputs": [],
   "source": []
  },
  {
   "cell_type": "markdown",
   "metadata": {},
   "source": [
    "### Soundex\n",
    "Description\n",
    "Write a piece of code that takes a word and returns its Soundex.\n",
    "\n",
    "Sample input:\n",
    "Mumbai\n",
    "\n",
    "Expected output:\n",
    "M510\n",
    "Execution Time Limit\n",
    "10 seconds"
   ]
  },
  {
   "cell_type": "code",
   "execution_count": null,
   "metadata": {},
   "outputs": [],
   "source": [
    "# incomplete codes\n",
    "\n",
    "import ast, sys\n",
    "word = sys.stdin.read()\n",
    "\n",
    "# define a function that returns Soundex of the words that is passed to it \n",
    "def get_soundex(token):\n",
    "    # write code here\n",
    "\n",
    "# store soundex in a variable\n",
    "soundex = # write code here\n",
    "\n",
    "# print soundex -- don't change the following piece of code.\n",
    "print(soundex)"
   ]
  },
  {
   "cell_type": "code",
   "execution_count": null,
   "metadata": {},
   "outputs": [],
   "source": [
    "import ast, sys\n",
    "word = sys.stdin.read()\n",
    "\n",
    "# define a function that returns Soundex of the words that is passed to it \n",
    "def get_soundex(token):\n",
    "    # write code here\n",
    "    token=token.upper()\n",
    "    \n",
    "\n",
    "# store soundex in a variable\n",
    "soundex = # write code here\n",
    "\n",
    "# print soundex -- don't change the following piece of code.\n",
    "print(soundex)"
   ]
  },
  {
   "cell_type": "code",
   "execution_count": 1,
   "metadata": {},
   "outputs": [
    {
     "name": "stdout",
     "output_type": "stream",
     "text": [
      "M510\n"
     ]
    }
   ],
   "source": [
    "import ast, sys\n",
    "#token = sys.stdin.read()\n",
    "token=\"Mumbai\"\n",
    "# define a function that returns Soundex of the words that is passed to it \n",
    "#def get_soundex(token):\n",
    "    # write code here\n",
    "def get_soundex(token):\n",
    "    \"\"\"Get the soundex code for the string\"\"\"\n",
    "    token = token.upper()\n",
    "    soundex = \"\"\n",
    "    # first letter of input is always the first letter of soundex\n",
    "    soundex += token[0]\n",
    "        # create a dictionary which maps letters to respective soundex codes. Vowels and 'H', 'W' and 'Y' will be represented by '.'\n",
    "    dictionary = {\"BFPV\": \"1\", \"CGJKQSXZ\":\"2\", \"DT\":\"3\", \"L\":\"4\", \"MN\":\"5\", \"R\":\"6\", \"AEIOUHWY\":\".\"}\n",
    "    for char in token[1:]:\n",
    "        for key in dictionary.keys():\n",
    "            if char in key:\n",
    "                code = dictionary[key] \n",
    "                if code != '.': \n",
    "                    if code != soundex[-1]: \n",
    "                        soundex += code \n",
    "                    \n",
    "    # trim or pad to make soundex a 4-character code\n",
    "    soundex = soundex[:4].ljust(4, \"0\") # write code here\n",
    "        \n",
    "    return soundex\n",
    "# store soundex in a variable\n",
    "soundex=get_soundex(token)\n",
    "\n",
    "# print soundex -- don't change the following piece of code.\n",
    "print(soundex)"
   ]
  },
  {
   "cell_type": "markdown",
   "metadata": {},
   "source": [
    "## The solution is provided below  "
   ]
  },
  {
   "cell_type": "code",
   "execution_count": 3,
   "metadata": {},
   "outputs": [
    {
     "name": "stdout",
     "output_type": "stream",
     "text": [
      "M510\n"
     ]
    }
   ],
   "source": [
    "import ast, sys\n",
    "#token = sys.stdin.read()\n",
    "word=\"Mumbai\"\n",
    "\n",
    "# define a function that returns Soundex of the words that is passed to it \n",
    "def get_soundex(token):\n",
    "    \"\"\"Get the soundex code for the string\"\"\"\n",
    "    token = token.upper()\n",
    "\n",
    "    soundex = \"\"\n",
    "    \n",
    "    # first letter of input is always the first letter of soundex\n",
    "    soundex += token[0]\n",
    "    \n",
    "    # create a dictionary which maps letters to respective soundex codes. Vowels and 'H', 'W' and 'Y' will be represented by '.'\n",
    "    dictionary = {\"BFPV\": \"1\", \"CGJKQSXZ\":\"2\", \"DT\":\"3\", \"L\":\"4\", \"MN\":\"5\", \"R\":\"6\", \"AEIOUHWY\":\".\"}\n",
    "\n",
    "    for char in token[1:]:\n",
    "        for key in dictionary.keys():\n",
    "            if char in key:\n",
    "                code = dictionary[key]\n",
    "                if code != soundex[-1]:\n",
    "                    soundex += code\n",
    "\n",
    "    # remove vowels and 'H', 'W' and 'Y' from soundex\n",
    "    soundex = soundex.replace(\".\", \"\")\n",
    "    \n",
    "    # trim or pad to make soundex a 4-character code\n",
    "    soundex = soundex[:4].ljust(4, \"0\")\n",
    "        \n",
    "    return soundex\n",
    "\n",
    "\n",
    "# store soundex in a variable\n",
    "soundex = get_soundex(word)\n",
    "\n",
    "# print soundex\n",
    "print(soundex)"
   ]
  }
 ],
 "metadata": {
  "kernelspec": {
   "display_name": "Python 3",
   "language": "python",
   "name": "python3"
  },
  "language_info": {
   "codemirror_mode": {
    "name": "ipython",
    "version": 3
   },
   "file_extension": ".py",
   "mimetype": "text/x-python",
   "name": "python",
   "nbconvert_exporter": "python",
   "pygments_lexer": "ipython3",
   "version": "3.12.0"
  }
 },
 "nbformat": 4,
 "nbformat_minor": 2
}
